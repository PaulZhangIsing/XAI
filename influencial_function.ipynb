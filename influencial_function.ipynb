{
  "nbformat": 4,
  "nbformat_minor": 0,
  "metadata": {
    "colab": {
      "name": "influencial_function.ipynb",
      "version": "0.3.2",
      "provenance": [],
      "collapsed_sections": [],
      "include_colab_link": true
    },
    "kernelspec": {
      "name": "python3",
      "display_name": "Python 3"
    },
    "accelerator": "GPU"
  },
  "cells": [
    {
      "cell_type": "markdown",
      "metadata": {
        "id": "view-in-github",
        "colab_type": "text"
      },
      "source": [
        "<a href=\"https://colab.research.google.com/github/PaulZhangIsing/XAI/blob/master/influencial_function.ipynb\" target=\"_parent\"><img src=\"https://colab.research.google.com/assets/colab-badge.svg\" alt=\"Open In Colab\"/></a>"
      ]
    },
    {
      "cell_type": "code",
      "metadata": {
        "id": "Y561-WbrsfYy",
        "colab_type": "code",
        "colab": {}
      },
      "source": [
        "import tensorflow as tf\n",
        "from IPython.display import Image\n",
        "from tensorflow.python.framework import ops\n",
        "from tensorflow.python.ops import array_ops\n",
        "from tensorflow.python.ops import math_ops\n",
        "import time\n",
        "import numpy as np\n",
        "import matplotlib.pyplot as plt\n",
        "from tensorflow.examples.tutorials.mnist import input_data\n",
        "\n",
        "\n",
        "\n",
        "\n",
        "cifar = tf.keras.datasets.cifar10\n",
        "(batch_xs, batch_ys), (test_xs, test_ys) = cifar.load_data()\n",
        "number_of_testsets = len(test_ys)\n",
        "test = np.zeros((number_of_testsets, 3072))\n",
        "test_label = np.zeros((number_of_testsets, 1))\n",
        "count = 0\n",
        "\n",
        "for i in range(100000):\n",
        "      test[count] += (test_xs[i] / np.linalg.norm(test_xs[i])).reshape(3072)\n",
        "      test_label[count] += np.array([1.0])\n",
        "      count += 1\n",
        "      if count == number_of_testsets:\n",
        "          break\n",
        "          \n",
        "          \n",
        "number_of_datasets = len(batch_ys)\n",
        "data = np.zeros((number_of_datasets, 3072))\n",
        "data_label = np.zeros((number_of_datasets, 1))\n",
        "count = 0\n",
        "for i in range(600000):\n",
        "      data[count] += (batch_xs[i] / np.linalg.norm(batch_xs[i])).reshape(3072)\n",
        "      data_label[count] += np.array([1.0])\n",
        "      count += 1\n",
        "      if count == number_of_datasets:\n",
        "          break\n",
        " \n",
        "\n"
      ],
      "execution_count": 0,
      "outputs": []
    },
    {
      "cell_type": "markdown",
      "metadata": {
        "id": "Ux-Ww83o4Snm",
        "colab_type": "text"
      },
      "source": [
        "#Data Preprocessing"
      ]
    },
    {
      "cell_type": "code",
      "metadata": {
        "id": "trzrpfE34R9f",
        "colab_type": "code",
        "colab": {}
      },
      "source": [
        "batch_xs = batch_xs.astype('float32')\n",
        "test_xs = test_xs.astype('float32')\n",
        "batch_xs = batch_xs / 255.0\n",
        "test_xs = test_xs / 255.0"
      ],
      "execution_count": 0,
      "outputs": []
    },
    {
      "cell_type": "code",
      "metadata": {
        "id": "D3M7fQft4t5w",
        "colab_type": "code",
        "outputId": "180b2e57-8987-4d9a-f78b-2da20f6b4504",
        "colab": {
          "base_uri": "https://localhost:8080/",
          "height": 153
        }
      },
      "source": [
        "\n",
        "\n",
        "def grayscale(data, dtype='float32'):\n",
        "    # luma coding weighted average in video systems\n",
        "    r, g, b = np.asarray(.3, dtype=dtype), np.asarray(.59, dtype=dtype), np.asarray(.11, dtype=dtype)\n",
        "    rst = r * data[:, :, :, 0] + g * data[:, :, :, 1] + b * data[:, :, :, 2]\n",
        "    # add channel dimension\n",
        "    rst = np.expand_dims(rst, axis=3)\n",
        "    return rst\n",
        "\n",
        "X_train_gray = grayscale(batch_xs)\n",
        "X_test_gray = grayscale(test_xs)\n",
        "\n",
        "# now we have only one channel in the images\n",
        "img_channels = 1\n",
        "\n",
        "# plot a randomly chosen image\n",
        "img = 64\n",
        "plt.figure(figsize=(4, 2))\n",
        "plt.subplot(1, 2, 1)\n",
        "plt.imshow(batch_xs[img], interpolation='nearest')\n",
        "plt.subplot(1, 2, 2)\n",
        "plt.imshow(X_train_gray[img, :, :, 0], cmap=plt.get_cmap('gray'), interpolation='none')\n",
        "plt.show()"
      ],
      "execution_count": 6,
      "outputs": [
        {
          "output_type": "display_data",
          "data": {
            "image/png": "[encoded data removed]",
            "text/plain": [
              "<Figure size 288x144 with 2 Axes>"
            ]
          },
          "metadata": {
            "tags": []
          }
        }
      ]
    },
    {
      "cell_type": "code",
      "metadata": {
        "id": "9Uo92RjwtTGj",
        "colab_type": "code",
        "outputId": "e098a338-f122-43b7-a6be-c5421d75cc9b",
        "colab": {
          "base_uri": "https://localhost:8080/",
          "height": 269
        }
      },
      "source": [
        "test_index=42\n",
        "plt.imshow(X_train_gray[test_index, :, :, 0], cmap=plt.get_cmap('gray'), interpolation='none')\n",
        "plt.show()"
      ],
      "execution_count": 45,
      "outputs": [
        {
          "output_type": "display_data",
          "data": {
            "image/png": "[encoded data removed]",
            "text/plain": [
              "<Figure size 432x288 with 1 Axes>"
            ]
          },
          "metadata": {
            "tags": []
          }
        }
      ]
    },
    {
      "cell_type": "code",
      "metadata": {
        "id": "PfHv2jLytYg-",
        "colab_type": "code",
        "colab": {}
      },
      "source": [
        "def smooth_hinge_loss(logits, labels, t=1e-3, dty=tf.float64):\n",
        "    margin=tf.multiply(tf.cast(labels, dtype=dty), logits) \n",
        "    exponents = (1-margin)/t\n",
        "    max_elems = tf.maximum(exponents, tf.zeros_like(exponents))\n",
        "    log_loss= t * (max_elems + tf.log(tf.exp(exponents - max_elems) \n",
        "                                      + tf.exp(tf.zeros_like(exponents) - max_elems)))\n",
        "    return tf.reduce_mean(log_loss) \n",
        "\n",
        "\n",
        "\n",
        "\n",
        "def hinge_loss(logits, labels, dty=tf.float64):\n",
        "    margin=tf.multiply(tf.cast(labels, dtype=dty), logits) \n",
        "    log_loss= tf.maximum(tf.constant(0,dtype=dty), 1-margin)\n",
        "    return tf.reduce_mean(log_loss) \n",
        "\n",
        "\n",
        "def get_accuracy_op(logits, labels, sigmoid=True, dty=tf.float64):\n",
        "    if sigmoid:\n",
        "        correct_prediction = tf.equal(tf.cast(L>0.5, tf.int32), tf.cast(labels, tf.int32))\n",
        "        accuracy = tf.reduce_sum(tf.cast(correct_prediction, tf.int32))\n",
        "        return accuracy/ tf.shape(labels)[0]\n",
        "    else:\n",
        "        preds = tf.sign(logits)\n",
        "        correct = tf.reduce_sum(tf.cast(tf.equal(preds, tf.cast(labels, dty)),tf.int32))\n",
        "        return correct / tf.shape(labels)[0]\n",
        "\n",
        "def hessian_vector_product(ys, xs, v, do_not_sum_up=True):\n",
        "    # Validate the input\n",
        "    length = len(xs)\n",
        "    if len(v) != length:\n",
        "        raise ValueError(\"xs and v must have the same length.\")\n",
        "    # First backprop\n",
        "    grads = tf.gradients(ys, xs)\n",
        "    \n",
        "    # grads = xs\n",
        "    assert len(grads) == length\n",
        "    elemwise_products = [\n",
        "      math_ops.multiply(grad_elem, array_ops.stop_gradient(v_elem))\n",
        "      for grad_elem, v_elem in zip(grads, v) if grad_elem is not None\n",
        "    ]\n",
        "    # Second backprop  \n",
        "    if do_not_sum_up:\n",
        "        seperate=[]\n",
        "        for i in range(length):\n",
        "            seperate.append(tf.gradients(elemwise_products[i], xs[i])[0])\n",
        "        grads_with_none = seperate\n",
        "    else:\n",
        "        grads_with_none = tf.gradients(elemwise_products, xs)\n",
        "        \n",
        "    return_grads = [grad_elem if grad_elem is not None \\\n",
        "      else tf.zeros_like(x) \\\n",
        "      for x, grad_elem in zip(xs, grads_with_none)]\n",
        "    return return_grads"
      ],
      "execution_count": 0,
      "outputs": []
    },
    {
      "cell_type": "code",
      "metadata": {
        "id": "OL-M-3Umtc5j",
        "colab_type": "code",
        "outputId": "a2db5a7b-39e8-416e-fd7e-4df997000c15",
        "colab": {
          "base_uri": "https://localhost:8080/",
          "height": 69
        }
      },
      "source": [
        "tf.reset_default_graph()\n",
        "nb_clases=1\n",
        "dty=tf.float64\n",
        "scale=1e0\n",
        "damping=1e-2\n",
        "\n",
        "I=tf.eye(3072, dtype=dty)\n",
        "we={}\n",
        "we[0]=3072*1\n",
        "w1=tf.get_variable('w1', [we[0]], initializer=tf.initializers.truncated_normal, dtype=dty)\n",
        "w1=w1/tf.norm(w1)\n",
        "w1=w1/tf.constant(1e6, dtype=dty)\n",
        "params=[w1]\n",
        "\n",
        "\n",
        "Hess=tf.placeholder(dty, shape=[w1.get_shape()[0], w1.get_shape()[0]],name='inverse') \n",
        "cur_in=tf.placeholder(dty, shape=[w1.get_shape()[0], w1.get_shape()[0]],name='inverse') \n",
        "v_cur_est=[tf.placeholder(dty, shape=a.get_shape(), name=\"v_cur_est\"+str(i)) for i, a in enumerate(params)]\n",
        "hessian_vector_val_place=[tf.placeholder(dty, shape=a.get_shape()[0], name=\"hessian_vector_val_place\"+str(i)) for i, a in enumerate(params)]\n",
        "Test = [tf.placeholder(dty, shape=a.get_shape(), name=\"v_cur_est\"+str(i)) for i, a in enumerate(params)]\n",
        "\n",
        "####################### LOSS ######################\n",
        "\n",
        "# We need to construct the network here.\n",
        "X=tf.placeholder(dty, [None, 3072],name=\"X\")\n",
        "Y=tf.placeholder(dty,[None, nb_clases],name=\"Y\")\n",
        "L=tf.matmul(X,tf.reshape(w1,[-1,1]))\n",
        "L=tf.nn.sigmoid(L)\n",
        "\n",
        "\n",
        "Z=tf.placeholder(dty, [None, 3072],name=\"Z\")\n",
        "Y_of_Z_train=tf.placeholder(dty, [None, nb_clases],name=\"Y_of_Z_train\")\n",
        "L_Z=tf.matmul(Z,tf.reshape(w1,[-1,1]))\n",
        "L_Z=tf.nn.sigmoid(L_Z)\n",
        "\n",
        "\n",
        "Z_test=tf.placeholder(dty, [None, 3072], name=\"Z_test\")\n",
        "Y_test=tf.placeholder(dty, [None, nb_clases], name=\"Y_test\")\n",
        "L_test=tf.matmul(Z_test, tf.reshape(w1,[-1,1]))\n",
        "L_test=tf.nn.sigmoid(L_test)\n",
        "###################################################\n",
        "####################### Loss ######################\n",
        "\n",
        "cost=tf.reduce_mean(-tf.reduce_sum(Y * tf.log(L+1e-6)+(1-Y)* tf.log(1-L+1e-6),1)) # aviod gradient vanishing, cross entropy is used \n",
        "cost+=damping*tf.nn.l2_loss(params)\n",
        "\n",
        "upweighting_loss=tf.reduce_mean(-tf.reduce_sum(Y_of_Z_train * tf.log(L_Z+1e-6)+(1-Y_of_Z_train)* tf.log(1-L_Z+1e-6),1)) # gradient vanishing \n",
        "upweighting_loss+=damping*tf.nn.l2_loss(params)\n",
        "\n",
        "Test_loss=tf.reduce_mean(-tf.reduce_sum(Y_test * tf.log(L_test+1e-6)+(1-Y_test)* tf.log(1-L_test+1e-6),1)) # gradient vanishing \n",
        "Test_loss+=damping*tf.nn.l2_loss(params)\n",
        "\n",
        "####################### grads ######################\n",
        "test_grad=tf.gradients(Test_loss, params)\n",
        "train_grad=tf.gradients(upweighting_loss, params)\n",
        "####################### Hessians ######################\n",
        "true_hess=tf.hessians(cost,params)\n",
        "####################### H dot v ########################\n",
        "hessian_vector_val=hessian_vector_product(cost, params, v_cur_est, True)\n",
        "########################  H inverse ######################## \n",
        "estimation_IHVP=[g+cur_e-HV/scale \n",
        "                 for g, HV, cur_e in zip(Test, hessian_vector_val, v_cur_est)] \n",
        "\n",
        "estimation_inverse=I+cur_in-tf.matmul(Hess, cur_in)/scale \n",
        "################################################\n",
        "\n",
        "\n",
        "\n",
        "train_op = tf.train.AdamOptimizer(1e-2).minimize(cost)\n",
        "accuracy=get_accuracy_op(L, Y)\n",
        "sess=tf.Session()\n",
        "sess.run(tf.global_variables_initializer())\n",
        "\n",
        "for epoch in range(1501):\n",
        "    for i in range(26):\n",
        "        batch_xs, batch_ys = data[i*500:(i+1)*500], data_label[i*500:(i+1)*500]\n",
        "        _=sess.run([train_op], feed_dict={X:batch_xs, Y:batch_ys})  \n",
        "    if epoch%500==0 and epoch>0:\n",
        "        c = sess.run(accuracy, feed_dict={X:test, Y:test_label})\n",
        "        a = sess.run(accuracy, feed_dict={X:data, Y:data_label})\n",
        "        ccc = sess.run(cost, feed_dict={X:test, Y:test_label})\n",
        "        print('Train accuracy: ',a, ' Test accuracy: ',c, ' cost: ',ccc)\n"
      ],
      "execution_count": 46,
      "outputs": [
        {
          "output_type": "stream",
          "text": [
            "Train accuracy:  1.0  Test accuracy:  1.0  cost:  0.6931447372546541\n",
            "Train accuracy:  1.0  Test accuracy:  1.0  cost:  0.6931447286266403\n",
            "Train accuracy:  1.0  Test accuracy:  1.0  cost:  0.6931447285615647\n"
          ],
          "name": "stdout"
        }
      ]
    },
    {
      "cell_type": "code",
      "metadata": {
        "id": "kMas0mjEtjDf",
        "colab_type": "code",
        "outputId": "54ee9926-993b-4981-9288-53fadb2ca332",
        "colab": {
          "base_uri": "https://localhost:8080/",
          "height": 34
        }
      },
      "source": [
        "sess.run(tf.nn.l2_loss(params)).sum()"
      ],
      "execution_count": 47,
      "outputs": [
        {
          "output_type": "execute_result",
          "data": {
            "text/plain": [
              "4.999999999999999e-13"
            ]
          },
          "metadata": {
            "tags": []
          },
          "execution_count": 47
        }
      ]
    },
    {
      "cell_type": "markdown",
      "metadata": {
        "id": "HE2eD8iUtmBP",
        "colab_type": "text"
      },
      "source": [
        "\n",
        "# Hessian Inverse computing\n"
      ]
    },
    {
      "cell_type": "markdown",
      "metadata": {
        "id": "02xrIamatpCP",
        "colab_type": "text"
      },
      "source": [
        "# Numpy direct inverse"
      ]
    },
    {
      "cell_type": "code",
      "metadata": {
        "id": "x5-1ZtGNts6p",
        "colab_type": "code",
        "colab": {}
      },
      "source": [
        "true_h=sess.run(true_hess[0], feed_dict={X:data, Y:data_label})\n",
        "inv=np.linalg.inv(true_h)\n"
      ],
      "execution_count": 0,
      "outputs": []
    },
    {
      "cell_type": "code",
      "metadata": {
        "id": "qW-EbIWEtwbS",
        "colab_type": "code",
        "colab": {
          "base_uri": "https://localhost:8080/",
          "height": 34
        },
        "outputId": "b4f05ad1-6d9d-4428-c5da-1dd166413fa7"
      },
      "source": [
        "np.linalg.norm(true_h)"
      ],
      "execution_count": 49,
      "outputs": [
        {
          "output_type": "execute_result",
          "data": {
            "text/plain": [
              "0.5950595760513694"
            ]
          },
          "metadata": {
            "tags": []
          },
          "execution_count": 49
        }
      ]
    },
    {
      "cell_type": "markdown",
      "metadata": {
        "id": "GKmvqfN6tyxg",
        "colab_type": "text"
      },
      "source": [
        "# Lissa Algorithms"
      ]
    },
    {
      "cell_type": "code",
      "metadata": {
        "id": "k365Src7tyNi",
        "colab_type": "code",
        "colab": {
          "base_uri": "https://localhost:8080/",
          "height": 34
        },
        "outputId": "62219d8d-9fe9-44b1-e6f2-c801d2eae59a"
      },
      "source": [
        "cur_estimate=sess.run(I)\n",
        "start_time = time.time()\n",
        "for j in range(5001):\n",
        "    cur_estimate=sess.run(estimation_inverse, feed_dict={Hess:true_h, cur_in:cur_estimate})\n",
        "inverse= cur_estimate/scale\n",
        "duration = time.time() - start_time\n",
        "print('Inverse Hessian by Lissa: took %s minute %s sec' % (duration//60, duration%60))\n"
      ],
      "execution_count": 50,
      "outputs": [
        {
          "output_type": "stream",
          "text": [
            "Inverse Hessian by Lissa: took 21.0 minute 22.13421392440796 sec\n"
          ],
          "name": "stdout"
        }
      ]
    },
    {
      "cell_type": "markdown",
      "metadata": {
        "id": "K1kmapKAt-rF",
        "colab_type": "text"
      },
      "source": [
        "# Error"
      ]
    },
    {
      "cell_type": "code",
      "metadata": {
        "id": "-r0sbJZIt5GY",
        "colab_type": "code",
        "colab": {
          "base_uri": "https://localhost:8080/",
          "height": 69
        },
        "outputId": "8a4ad9dc-4ab9-47be-9cd8-e6fc730be1d9"
      },
      "source": [
        "print('Lissa Identity Error: ',abs(np.dot(true_h,inverse)-np.eye(3072)).sum())\n",
        "print('Numpy Identity Error: ',abs(np.dot(true_h,inv)-np.eye(3072)).sum())\n",
        "print('Inverse Error: ',abs(inverse-inv).sum())\n"
      ],
      "execution_count": 51,
      "outputs": [
        {
          "output_type": "stream",
          "text": [
            "Lissa Identity Error:  6.269755022233689e-11\n",
            "Numpy Identity Error:  3.037177391637842e-11\n",
            "Inverse Error:  6.760981069562677e-09\n"
          ],
          "name": "stdout"
        }
      ]
    },
    {
      "cell_type": "markdown",
      "metadata": {
        "id": "Q0gczhDJuDn-",
        "colab_type": "text"
      },
      "source": [
        "#IHVP"
      ]
    },
    {
      "cell_type": "code",
      "metadata": {
        "id": "0ecsxRySuEtl",
        "colab_type": "code",
        "colab": {}
      },
      "source": [
        "test_val=sess.run(test_grad, feed_dict={Z_test:test[test_index].reshape((1,3072)), Y_test:test_label[test_index].reshape((1,1))})\n",
        "IHVP=np.dot(test_val[0], inv)"
      ],
      "execution_count": 0,
      "outputs": []
    },
    {
      "cell_type": "code",
      "metadata": {
        "id": "meFVuqCpuNW7",
        "colab_type": "code",
        "colab": {
          "base_uri": "https://localhost:8080/",
          "height": 69
        },
        "outputId": "ce85c78e-5913-4c14-e73e-d228074f8e8f"
      },
      "source": [
        "start_time = time.time()\n",
        "cur_estimate=test_val.copy()\n",
        "feed1={place:cur for place, cur in zip(Test, test_val)}\n",
        "for j in range(5001):\n",
        "    feed2={place:cur for place, cur in zip(v_cur_est, cur_estimate)}\n",
        "    r=np.random.randint(len(data), size=[3072])\n",
        "    cur_estimate=sess.run(estimation_IHVP, feed_dict={X:data[r], Y:data_label[r], **feed1,**feed2})\n",
        "    if j%2500==0 and j>0:\n",
        "        print(cur_estimate[0][0])\n",
        "inverse_hvp = [b/scale for b in cur_estimate]\n",
        "duration = time.time() - start_time\n",
        "print('Inverse HVP by HVPs+Lissa: took %s minute %s sec' % (duration//60, duration%60))"
      ],
      "execution_count": 53,
      "outputs": [
        {
          "output_type": "stream",
          "text": [
            "-0.30666044906328194\n",
            "-0.30655292901821063\n",
            "Inverse HVP by HVPs+Lissa: took 3.0 minute 38.54672932624817 sec\n"
          ],
          "name": "stdout"
        }
      ]
    },
    {
      "cell_type": "code",
      "metadata": {
        "id": "eM7NYFVcuN4x",
        "colab_type": "code",
        "colab": {
          "base_uri": "https://localhost:8080/",
          "height": 34
        },
        "outputId": "c3cf75d6-db87-48a1-9636-ff6c82afe411"
      },
      "source": [
        "abs(IHVP-inverse_hvp[0]).sum()"
      ],
      "execution_count": 55,
      "outputs": [
        {
          "output_type": "execute_result",
          "data": {
            "text/plain": [
              "1.8288457545353127"
            ]
          },
          "metadata": {
            "tags": []
          },
          "execution_count": 55
        }
      ]
    },
    {
      "cell_type": "code",
      "metadata": {
        "id": "iDbLzYn8uRLA",
        "colab_type": "code",
        "colab": {
          "base_uri": "https://localhost:8080/",
          "height": 34
        },
        "outputId": "20d7c4e2-f0e8-43a8-bd99-7cd45887e88f"
      },
      "source": [
        "s=time.time()\n",
        "val_lissa=[]\n",
        "for i in range(number_of_datasets):\n",
        "    if data_label[i][0]==test_label[test_index][0]:\n",
        "        train_grad_loss_val=sess.run(train_grad, feed_dict={Z:data[i].reshape((1,3072)), Y_of_Z_train:data_label[i].reshape((1,1))})\n",
        "        val_lissa.append([i,np.dot(np.concatenate(inverse_hvp), np.concatenate(train_grad_loss_val))])\n",
        "duration = time.time() - s\n",
        "print('Multiplying by %s train examples took %s minute %s sec' % (1, duration//60, duration%60))\n",
        "val_lissa=sorted(val_lissa, key=lambda x: x[1])"
      ],
      "execution_count": 56,
      "outputs": [
        {
          "output_type": "stream",
          "text": [
            "Multiplying by 1 train examples took 0.0 minute 54.23994755744934 sec\n"
          ],
          "name": "stdout"
        }
      ]
    },
    {
      "cell_type": "code",
      "metadata": {
        "id": "hh2Ve7LwuSzW",
        "colab_type": "code",
        "colab": {
          "base_uri": "https://localhost:8080/",
          "height": 34
        },
        "outputId": "789d963e-d712-4ff2-c0a3-d15563dbe727"
      },
      "source": [
        "s=time.time()\n",
        "val=[]\n",
        "for i in range(number_of_datasets):\n",
        "    if data_label[i][0]==test_label[test_index][0]:\n",
        "        train_grad_loss_val=sess.run(train_grad, feed_dict={Z:data[i].reshape((1,3072)), Y_of_Z_train:data_label[i].reshape((1,1))})\n",
        "        val.append([i,np.dot(IHVP, np.concatenate(train_grad_loss_val))])\n",
        "duration = time.time() - s\n",
        "print('Multiplying by %s train examples took %s minute %s sec' % (1, duration//60, duration%60))\n",
        "val=sorted(val, key=lambda x: x[1])"
      ],
      "execution_count": 57,
      "outputs": [
        {
          "output_type": "stream",
          "text": [
            "Multiplying by 1 train examples took 0.0 minute 53.781766176223755 sec\n"
          ],
          "name": "stdout"
        }
      ]
    },
    {
      "cell_type": "markdown",
      "metadata": {
        "id": "_Js2BRBquUHf",
        "colab_type": "text"
      },
      "source": [
        "# Pictures"
      ]
    },
    {
      "cell_type": "code",
      "metadata": {
        "id": "g5yt1K-OuVQ9",
        "colab_type": "code",
        "colab": {
          "base_uri": "https://localhost:8080/",
          "height": 52
        },
        "outputId": "a54970a5-685f-438e-ca6c-fc62d3ff2999"
      },
      "source": [
        "print(val[0][0], val[1][0], val[2][0], val[3][0], val[4][0], val[5][0])\n",
        "print(val[-1][0], val[-2][0], val[-3][0], val[-4][0], val[-5][0], val[-6][0])\n"
      ],
      "execution_count": 58,
      "outputs": [
        {
          "output_type": "stream",
          "text": [
            "4940 17840 38193 24786 4921 24517\n",
            "24820 769 1094 2261 5400 13566\n"
          ],
          "name": "stdout"
        }
      ]
    },
    {
      "cell_type": "code",
      "metadata": {
        "id": "cGMTGPaLuWhB",
        "colab_type": "code",
        "colab": {
          "base_uri": "https://localhost:8080/",
          "height": 52
        },
        "outputId": "4d62d5e1-47e5-4c05-f3aa-b66d0b2e80e3"
      },
      "source": [
        "print(val_lissa[0][0], val_lissa[1][0], val_lissa[2][0], val_lissa[3][0], val_lissa[4][0], val_lissa[5][0])\n",
        "print(val_lissa[-1][0], val_lissa[-2][0], val_lissa[-3][0], val_lissa[-4][0], val_lissa[-5][0], val_lissa[-6][0])"
      ],
      "execution_count": 59,
      "outputs": [
        {
          "output_type": "stream",
          "text": [
            "4940 17840 38193 24786 4921 24517\n",
            "24820 769 1094 2261 5400 13566\n"
          ],
          "name": "stdout"
        }
      ]
    },
    {
      "cell_type": "code",
      "metadata": {
        "id": "E6DgBMtquYz3",
        "colab_type": "code",
        "colab": {
          "base_uri": "https://localhost:8080/",
          "height": 193
        },
        "outputId": "88ef94b5-e6e2-4c5d-c5ed-ec047b164948"
      },
      "source": [
        "fig = plt.figure(figsize=(16, 4))\n",
        "for i in range(1, 8):\n",
        "    ax = plt.subplot(1, 7, i)\n",
        "    if i == 1:\n",
        "        plt.imshow(X_train_gray[test_index, :, :, 0],cmap='gray',interpolation='nearest')\n",
        "        ax.set_title('Test_image')\n",
        "    elif i == 2:\n",
        "        plt.imshow(X_train_gray[val[0][0], :, :, 0],cmap='gray',interpolation='nearest')\n",
        "        ax.set_title('Harmful_image1')\n",
        "    elif i == 3:\n",
        "        plt.imshow(X_train_gray[val[1][0],:,:,0],cmap='gray',interpolation='nearest')\n",
        "        ax.set_title('Harmful_image2')\n",
        "    elif i == 4:\n",
        "        plt.imshow(X_train_gray[val[2][0],:,:,0],cmap='gray',interpolation='nearest')\n",
        "        ax.set_title('Harmful_image3')\n",
        "    elif i == 5:\n",
        "        plt.imshow(X_train_gray[val[3][0],:,:,0],cmap='gray',interpolation='nearest')\n",
        "        ax.set_title('Harmful_image4')\n",
        "    elif i == 6:\n",
        "        plt.imshow(X_train_gray[val[4][0],:,:,0],cmap='gray',interpolation='nearest')\n",
        "        ax.set_title('Harmful_image5')\n",
        "    elif i == 7:\n",
        "        plt.imshow(X_train_gray[val[5][0],:,:,0],cmap='gray',interpolation='nearest')\n",
        "        ax.set_title('Harmful_image6')\n",
        "plt.tight_layout()\n",
        "plt.show()"
      ],
      "execution_count": 60,
      "outputs": [
        {
          "output_type": "display_data",
          "data": {
            "image/png": "[encoded data removed]",
            "text/plain": [
              "<Figure size 1152x288 with 7 Axes>"
            ]
          },
          "metadata": {
            "tags": []
          }
        }
      ]
    },
    {
      "cell_type": "code",
      "metadata": {
        "id": "DM3tiXwauZTz",
        "colab_type": "code",
        "outputId": "3c798586-b45c-4d12-fb3f-ff20585f0fd4",
        "colab": {
          "base_uri": "https://localhost:8080/",
          "height": 193
        }
      },
      "source": [
        "fig = plt.figure(figsize=(16, 4))\n",
        "for i in range(1, 8):\n",
        "    ax = plt.subplot(1, 7, i)\n",
        "    if i == 1:\n",
        "        plt.imshow(X_train_gray[test_index, :, :, 0],cmap='gray',interpolation='nearest')\n",
        "        ax.set_title('Test_image')\n",
        "    elif i == 2:\n",
        "        plt.imshow(X_train_gray[val[-1][0], :, :, 0],cmap='gray',interpolation='nearest')\n",
        "        ax.set_title('Positive_image1')\n",
        "    elif i == 3:\n",
        "        plt.imshow(X_train_gray[val[-2][0], :, :, 0],cmap='gray',interpolation='nearest')\n",
        "        ax.set_title('Positive_image2')\n",
        "    elif i == 4:\n",
        "        plt.imshow(X_train_gray[val[-3][0], :, :, 0],cmap='gray',interpolation='nearest')\n",
        "        ax.set_title('Positive_image3')\n",
        "    elif i == 5:\n",
        "        plt.imshow(X_train_gray[val[-4][0], :, :, 0],cmap='gray',interpolation='nearest')\n",
        "        ax.set_title('Positive_image4')\n",
        "    elif i == 6:\n",
        "        plt.imshow(X_train_gray[val[-5][0], :, :, 0],cmap='gray',interpolation='nearest')\n",
        "        ax.set_title('Positive_image5')\n",
        "    elif i == 7:\n",
        "        plt.imshow(X_train_gray[val[-6][0], :, :, 0],cmap='gray',interpolation='nearest')\n",
        "        ax.set_title('Positive_image6')\n",
        "plt.tight_layout()\n",
        "plt.show()"
      ],
      "execution_count": 61,
      "outputs": [
        {
          "output_type": "display_data",
          "data": {
            "image/png": "[encoded data removed]",
            "text/plain": [
              "<Figure size 1152x288 with 7 Axes>"
            ]
          },
          "metadata": {
            "tags": []
          }
        }
      ]
    }
  ]
}